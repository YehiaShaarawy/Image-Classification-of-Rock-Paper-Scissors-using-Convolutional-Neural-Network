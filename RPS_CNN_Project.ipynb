{
  "nbformat": 4,
  "nbformat_minor": 0,
  "metadata": {
    "colab": {
      "provenance": []
    },
    "kernelspec": {
      "name": "python3",
      "display_name": "Python 3"
    },
    "language_info": {
      "name": "python"
    }
  },
  "cells": [
    {
      "cell_type": "markdown",
      "source": [
        "**Installing kaggle plugin**"
      ],
      "metadata": {
        "id": "6zWRYmRuIA8l"
      }
    },
    {
      "cell_type": "code",
      "execution_count": 8,
      "metadata": {
        "colab": {
          "base_uri": "https://localhost:8080/",
          "height": 0
        },
        "id": "06llu4_HU_hp",
        "outputId": "ef5a747e-3998-40cf-cbf9-854a6bef2a18"
      },
      "outputs": [
        {
          "output_type": "stream",
          "name": "stdout",
          "text": [
            "Requirement already satisfied: kaggle in /usr/local/lib/python3.10/dist-packages (1.6.14)\n",
            "Requirement already satisfied: six>=1.10 in /usr/local/lib/python3.10/dist-packages (from kaggle) (1.16.0)\n",
            "Requirement already satisfied: certifi>=2023.7.22 in /usr/local/lib/python3.10/dist-packages (from kaggle) (2024.2.2)\n",
            "Requirement already satisfied: python-dateutil in /usr/local/lib/python3.10/dist-packages (from kaggle) (2.8.2)\n",
            "Requirement already satisfied: requests in /usr/local/lib/python3.10/dist-packages (from kaggle) (2.31.0)\n",
            "Requirement already satisfied: tqdm in /usr/local/lib/python3.10/dist-packages (from kaggle) (4.66.4)\n",
            "Requirement already satisfied: python-slugify in /usr/local/lib/python3.10/dist-packages (from kaggle) (8.0.4)\n",
            "Requirement already satisfied: urllib3 in /usr/local/lib/python3.10/dist-packages (from kaggle) (2.0.7)\n",
            "Requirement already satisfied: bleach in /usr/local/lib/python3.10/dist-packages (from kaggle) (6.1.0)\n",
            "Requirement already satisfied: webencodings in /usr/local/lib/python3.10/dist-packages (from bleach->kaggle) (0.5.1)\n",
            "Requirement already satisfied: text-unidecode>=1.3 in /usr/local/lib/python3.10/dist-packages (from python-slugify->kaggle) (1.3)\n",
            "Requirement already satisfied: charset-normalizer<4,>=2 in /usr/local/lib/python3.10/dist-packages (from requests->kaggle) (3.3.2)\n",
            "Requirement already satisfied: idna<4,>=2.5 in /usr/local/lib/python3.10/dist-packages (from requests->kaggle) (3.7)\n"
          ]
        }
      ],
      "source": [
        "!pip install kaggle"
      ]
    },
    {
      "cell_type": "markdown",
      "source": [
        "**Connecting our project with google drive**"
      ],
      "metadata": {
        "id": "az_PWc0qIHwB"
      }
    },
    {
      "cell_type": "code",
      "source": [
        "from google.colab import drive\n",
        "drive.mount('/content/drive')"
      ],
      "metadata": {
        "colab": {
          "base_uri": "https://localhost:8080/",
          "height": 0
        },
        "id": "NJOu3zOhVMFY",
        "outputId": "a4554965-c365-433f-8f5a-37dcd7da8b19"
      },
      "execution_count": 9,
      "outputs": [
        {
          "output_type": "stream",
          "name": "stdout",
          "text": [
            "Mounted at /content/drive\n"
          ]
        }
      ]
    },
    {
      "cell_type": "markdown",
      "source": [
        "**Creating a directory to store in the kaggle api key**"
      ],
      "metadata": {
        "id": "qmifxVg9IRK4"
      }
    },
    {
      "cell_type": "code",
      "source": [
        "! mkdir ~/.kaggle"
      ],
      "metadata": {
        "id": "BMs-R341VS2q"
      },
      "execution_count": 10,
      "outputs": []
    },
    {
      "cell_type": "markdown",
      "source": [
        "**Importing our kaggle API key to this project**"
      ],
      "metadata": {
        "id": "nUuDTJY2ISX8"
      }
    },
    {
      "cell_type": "code",
      "source": [
        "!cp /content/drive/MyDrive/College/kaggle.json ~/.kaggle/kaggle.json"
      ],
      "metadata": {
        "id": "GBSiFkKiVUQZ"
      },
      "execution_count": 11,
      "outputs": []
    },
    {
      "cell_type": "markdown",
      "source": [
        "**Changing permission to the kaggle api to Read & Write**"
      ],
      "metadata": {
        "id": "MSdGn-UiIexd"
      }
    },
    {
      "cell_type": "code",
      "source": [
        "! chmod 600 ~/.kaggle/kaggle.json"
      ],
      "metadata": {
        "id": "jCizP-P5VVth"
      },
      "execution_count": 12,
      "outputs": []
    },
    {
      "cell_type": "markdown",
      "source": [
        "**Downloading Dataset**\n",
        "\n"
      ],
      "metadata": {
        "id": "0Ifp_Ci5mNfs"
      }
    },
    {
      "cell_type": "code",
      "source": [
        "! kaggle datasets download drgfreeman/rockpaperscissors"
      ],
      "metadata": {
        "colab": {
          "base_uri": "https://localhost:8080/",
          "height": 0
        },
        "id": "ZNd7hyfIVXLO",
        "outputId": "1d659225-f303-401b-ee73-ceb9c78a7121"
      },
      "execution_count": 13,
      "outputs": [
        {
          "output_type": "stream",
          "name": "stdout",
          "text": [
            "Dataset URL: https://www.kaggle.com/datasets/drgfreeman/rockpaperscissors\n",
            "License(s): CC-BY-SA-4.0\n",
            "Downloading rockpaperscissors.zip to /content\n",
            "100% 305M/306M [00:14<00:00, 26.8MB/s]\n",
            "100% 306M/306M [00:14<00:00, 22.8MB/s]\n"
          ]
        }
      ]
    },
    {
      "cell_type": "markdown",
      "source": [
        "**Importing libraries**"
      ],
      "metadata": {
        "id": "_pMDvLDiH35q"
      }
    },
    {
      "cell_type": "code",
      "source": [
        "import zipfile\n",
        "import os\n",
        "import tensorflow as tf\n",
        "from tensorflow.keras.preprocessing.image import ImageDataGenerator\n",
        "from keras.callbacks import ReduceLROnPlateau\n",
        "from sklearn.metrics import classification_report, confusion_matrix\n",
        "import matplotlib.pyplot as plt\n",
        "import matplotlib.image as mpimg\n",
        "import numpy as np\n",
        "from keras.preprocessing import image\n",
        "from google.colab import files\n",
        "import keras\n",
        "from keras.layers import Dense, Activation, Flatten, Conv2D, MaxPooling2D\n",
        "from keras.models import Sequential\n",
        "from keras.utils import to_categorical"
      ],
      "metadata": {
        "id": "XUsQUIZNVe87"
      },
      "execution_count": 14,
      "outputs": []
    },
    {
      "cell_type": "markdown",
      "source": [
        "**Extracting the dataset into a folder called rockpaperscissors**"
      ],
      "metadata": {
        "id": "3CSgVkg7rnf9"
      }
    },
    {
      "cell_type": "code",
      "source": [
        "local_zip = '/content/rockpaperscissors.zip'\n",
        "zip_ref = zipfile.ZipFile(local_zip, 'r') #read the zipfile\n",
        "zip_ref.extractall('/tmp') #extract all cotents of the zipfile in the tmp directory\n",
        "zip_ref.close()\n",
        "base_dir = '/tmp/rockpaperscissors'\n",
        "train_dir = os.path.join(base_dir, 'rps-cv-images')"
      ],
      "metadata": {
        "id": "to6NAv4WVja0"
      },
      "execution_count": 17,
      "outputs": []
    },
    {
      "cell_type": "code",
      "source": [
        "print(os.listdir(base_dir))"
      ],
      "metadata": {
        "colab": {
          "base_uri": "https://localhost:8080/",
          "height": 0
        },
        "id": "iGHQDnt0VyKT",
        "outputId": "518d0f91-1522-40f0-912f-dc4f544ca59d"
      },
      "execution_count": 18,
      "outputs": [
        {
          "output_type": "stream",
          "name": "stdout",
          "text": [
            "['rock', 'scissors', 'paper', 'README_rpc-cv-images.txt', 'rps-cv-images']\n"
          ]
        }
      ]
    },
    {
      "cell_type": "code",
      "source": [
        "os.listdir('/tmp/rockpaperscissors/rps-cv-images')"
      ],
      "metadata": {
        "colab": {
          "base_uri": "https://localhost:8080/",
          "height": 0
        },
        "id": "gsVOtDP2V_dZ",
        "outputId": "46df7432-5d9b-4a6e-b054-f14b5f7ed400"
      },
      "execution_count": 19,
      "outputs": [
        {
          "output_type": "execute_result",
          "data": {
            "text/plain": [
              "['rock', 'scissors', 'paper', 'README_rpc-cv-images.txt']"
            ]
          },
          "metadata": {},
          "execution_count": 19
        }
      ]
    },
    {
      "cell_type": "markdown",
      "source": [
        "**Preparing data for the model**"
      ],
      "metadata": {
        "id": "ZP-V4bJ-rrDi"
      }
    },
    {
      "cell_type": "code",
      "source": [
        "train_datagen = ImageDataGenerator(\n",
        "                rescale=1./255, #resale from 0-255 RGB range to 0-1 range\n",
        "                rotation_range=20, #rotate image in 0-20 degrees\n",
        "                horizontal_flip=True, #rotate image horizontally\n",
        "                shear_range = 0.2, #shear angle by 0.2 degree range in counter clockwise\n",
        "                fill_mode = 'nearest', #fill newly created pixels\n",
        "                validation_split=0.4) #split dataset images by 40% for validation step\n",
        "\n",
        "validation_datagen = ImageDataGenerator(rescale = 1.0/255, validation_split=0.4)\n",
        "\n",
        "train_generator = train_datagen.flow_from_directory(\n",
        "        train_dir,\n",
        "        target_size=(100,150), #all images will resized to 100x150px\n",
        "        batch_size=32,\n",
        "        class_mode='categorical', #determines the type of label array, we use categorical due to having 3 classes \"rock,paper,scissors\"\n",
        "        subset='training') #subsets the data into traing by the value of validation split\n",
        "\n",
        "validation_generator = validation_datagen.flow_from_directory(\n",
        "        train_dir,\n",
        "        target_size=(100,150),\n",
        "        batch_size=32,\n",
        "        class_mode='categorical',\n",
        "        subset='validation') #subsets the data into validation by the value of validation split"
      ],
      "metadata": {
        "colab": {
          "base_uri": "https://localhost:8080/",
          "height": 0
        },
        "id": "dRK4BfKgWEv7",
        "outputId": "2a7fa8b8-2bd6-47b7-8bba-8d6e35c70aac"
      },
      "execution_count": 20,
      "outputs": [
        {
          "output_type": "stream",
          "name": "stdout",
          "text": [
            "Found 1314 images belonging to 3 classes.\n",
            "Found 874 images belonging to 3 classes.\n"
          ]
        }
      ]
    },
    {
      "cell_type": "markdown",
      "source": [
        "**CNN Architecture**"
      ],
      "metadata": {
        "id": "TL0bEQ1SNh7M"
      }
    },
    {
      "cell_type": "code",
      "source": [
        "model = Sequential()\n",
        "\n",
        "model.add(Conv2D(64, (3,3), input_shape=(100, 150, 3)))\n",
        "model.add(Activation('relu'))\n",
        "model.add(MaxPooling2D(pool_size=(2,2)))\n",
        "\n",
        "model.add(Conv2D(16, (3,3)))\n",
        "model.add(Activation('relu'))\n",
        "model.add(MaxPooling2D(pool_size=(2,2)))\n",
        "\n",
        "model.add(Conv2D(32, (3,3)))\n",
        "model.add(Activation('relu'))\n",
        "model.add(MaxPooling2D(pool_size=(2,2)))\n",
        "\n",
        "model.add(Flatten())\n",
        "model.add(Dense(64))\n",
        "model.add(Activation('relu'))\n",
        "\n",
        "model.add(Dense(3))\n",
        "model.add(Activation('softmax'))"
      ],
      "metadata": {
        "id": "zwnDAJWFWWgl"
      },
      "execution_count": 21,
      "outputs": []
    },
    {
      "cell_type": "code",
      "source": [
        "model.summary()"
      ],
      "metadata": {
        "id": "vqSwNnVyhg0J",
        "outputId": "a85ea1aa-dab0-4842-d3ee-37e30bc8f2c4",
        "colab": {
          "base_uri": "https://localhost:8080/",
          "height": 0
        }
      },
      "execution_count": 22,
      "outputs": [
        {
          "output_type": "stream",
          "name": "stdout",
          "text": [
            "Model: \"sequential\"\n",
            "_________________________________________________________________\n",
            " Layer (type)                Output Shape              Param #   \n",
            "=================================================================\n",
            " conv2d (Conv2D)             (None, 98, 148, 64)       1792      \n",
            "                                                                 \n",
            " activation (Activation)     (None, 98, 148, 64)       0         \n",
            "                                                                 \n",
            " max_pooling2d (MaxPooling2  (None, 49, 74, 64)        0         \n",
            " D)                                                              \n",
            "                                                                 \n",
            " conv2d_1 (Conv2D)           (None, 47, 72, 16)        9232      \n",
            "                                                                 \n",
            " activation_1 (Activation)   (None, 47, 72, 16)        0         \n",
            "                                                                 \n",
            " max_pooling2d_1 (MaxPoolin  (None, 23, 36, 16)        0         \n",
            " g2D)                                                            \n",
            "                                                                 \n",
            " conv2d_2 (Conv2D)           (None, 21, 34, 32)        4640      \n",
            "                                                                 \n",
            " activation_2 (Activation)   (None, 21, 34, 32)        0         \n",
            "                                                                 \n",
            " max_pooling2d_2 (MaxPoolin  (None, 10, 17, 32)        0         \n",
            " g2D)                                                            \n",
            "                                                                 \n",
            " flatten (Flatten)           (None, 5440)              0         \n",
            "                                                                 \n",
            " dense (Dense)               (None, 64)                348224    \n",
            "                                                                 \n",
            " activation_3 (Activation)   (None, 64)                0         \n",
            "                                                                 \n",
            " dense_1 (Dense)             (None, 3)                 195       \n",
            "                                                                 \n",
            " activation_4 (Activation)   (None, 3)                 0         \n",
            "                                                                 \n",
            "=================================================================\n",
            "Total params: 364083 (1.39 MB)\n",
            "Trainable params: 364083 (1.39 MB)\n",
            "Non-trainable params: 0 (0.00 Byte)\n",
            "_________________________________________________________________\n"
          ]
        }
      ]
    },
    {
      "cell_type": "markdown",
      "source": [
        "Flatten layer = 5440 -> last max pooling is 10*17*32 <br>\n",
        "Dense 1st layer 64 neuron used, 64*5440+64 = 348224 <br>\n",
        "Dense 2nd layer 3 image categories with total 3*64+3 = 195"
      ],
      "metadata": {
        "id": "az-K96qVtyRX"
      }
    },
    {
      "cell_type": "markdown",
      "source": [
        "**Compile pre-built model**"
      ],
      "metadata": {
        "id": "W9YFF0VYu5cc"
      }
    },
    {
      "cell_type": "code",
      "source": [
        "model.compile(loss=keras.losses.categorical_crossentropy, optimizer=keras.optimizers.Adam(),metrics=['accuracy', keras.metrics.AUC()])"
      ],
      "metadata": {
        "id": "TjF1-RJnWccT"
      },
      "execution_count": 23,
      "outputs": []
    },
    {
      "cell_type": "markdown",
      "source": [
        "**Early stopping when model reaches the accuracy threshold to reduce model overfitting**"
      ],
      "metadata": {
        "id": "PwLoB5lSvzov"
      }
    },
    {
      "cell_type": "code",
      "source": [
        "learning_rate_reduction = ReduceLROnPlateau(monitor='val_accuracy',\n",
        "                                            patience=2,\n",
        "                                            verbose=1,\n",
        "                                            factor=0.5,\n",
        "                                            min_lr=0.000003)"
      ],
      "metadata": {
        "id": "R8q8zusgvKI-"
      },
      "execution_count": 24,
      "outputs": []
    },
    {
      "cell_type": "markdown",
      "source": [
        "**Training model**"
      ],
      "metadata": {
        "id": "Awbq7JH-wFPT"
      }
    },
    {
      "cell_type": "code",
      "source": [
        "history = model.fit(\n",
        "    train_generator, #train using the training dataset\n",
        "    epochs=10, #10 iterations\n",
        "    validation_data=validation_generator, #evaluates the model using validation dataset\n",
        "    callbacks=[learning_rate_reduction]) #will stop when the maximum accuracy meets the threshold"
      ],
      "metadata": {
        "colab": {
          "base_uri": "https://localhost:8080/",
          "height": 0
        },
        "id": "lMpEofvzvsPk",
        "outputId": "9598e4c3-53e2-405e-d3ce-a868523a451f"
      },
      "execution_count": 25,
      "outputs": [
        {
          "output_type": "stream",
          "name": "stdout",
          "text": [
            "Epoch 1/10\n",
            "42/42 [==============================] - 64s 1s/step - loss: 0.8997 - accuracy: 0.5487 - auc: 0.7564 - val_loss: 0.4704 - val_accuracy: 0.8398 - val_auc: 0.9453 - lr: 0.0010\n",
            "Epoch 2/10\n",
            "42/42 [==============================] - 62s 1s/step - loss: 0.3875 - accuracy: 0.8516 - auc: 0.9601 - val_loss: 0.3418 - val_accuracy: 0.8787 - val_auc: 0.9652 - lr: 0.0010\n",
            "Epoch 3/10\n",
            "42/42 [==============================] - 56s 1s/step - loss: 0.2490 - accuracy: 0.9018 - auc: 0.9823 - val_loss: 0.2096 - val_accuracy: 0.9359 - val_auc: 0.9853 - lr: 0.0010\n",
            "Epoch 4/10\n",
            "42/42 [==============================] - 68s 2s/step - loss: 0.2386 - accuracy: 0.9186 - auc: 0.9828 - val_loss: 0.1831 - val_accuracy: 0.9462 - val_auc: 0.9898 - lr: 0.0010\n",
            "Epoch 5/10\n",
            "42/42 [==============================] - 61s 1s/step - loss: 0.1551 - accuracy: 0.9422 - auc: 0.9927 - val_loss: 0.2125 - val_accuracy: 0.9348 - val_auc: 0.9871 - lr: 0.0010\n",
            "Epoch 6/10\n",
            "42/42 [==============================] - 53s 1s/step - loss: 0.1470 - accuracy: 0.9498 - auc: 0.9925 - val_loss: 0.1564 - val_accuracy: 0.9542 - val_auc: 0.9907 - lr: 0.0010\n",
            "Epoch 7/10\n",
            "42/42 [==============================] - 56s 1s/step - loss: 0.1361 - accuracy: 0.9589 - auc: 0.9934 - val_loss: 0.1475 - val_accuracy: 0.9622 - val_auc: 0.9920 - lr: 0.0010\n",
            "Epoch 8/10\n",
            "42/42 [==============================] - 52s 1s/step - loss: 0.1268 - accuracy: 0.9627 - auc: 0.9937 - val_loss: 0.1461 - val_accuracy: 0.9634 - val_auc: 0.9916 - lr: 0.0010\n",
            "Epoch 9/10\n",
            "42/42 [==============================] - 52s 1s/step - loss: 0.1069 - accuracy: 0.9635 - auc: 0.9956 - val_loss: 0.1420 - val_accuracy: 0.9645 - val_auc: 0.9924 - lr: 0.0010\n",
            "Epoch 10/10\n",
            "42/42 [==============================] - 55s 1s/step - loss: 0.1099 - accuracy: 0.9635 - auc: 0.9964 - val_loss: 0.1308 - val_accuracy: 0.9691 - val_auc: 0.9918 - lr: 0.0010\n"
          ]
        }
      ]
    },
    {
      "cell_type": "code",
      "source": [
        "plt.plot(history.history['loss'],label=\"Training Loss\")\n",
        "plt.plot(history.history['val_loss'],label=\"Validation Loss\")\n",
        "plt.title('Training and Validation Loss')\n",
        "plt.legend()"
      ],
      "metadata": {
        "colab": {
          "base_uri": "https://localhost:8080/",
          "height": 470
        },
        "id": "sZjd9vllw49F",
        "outputId": "a162e297-d0f5-49d2-d6bb-25720ed6c1b2"
      },
      "execution_count": 26,
      "outputs": [
        {
          "output_type": "execute_result",
          "data": {
            "text/plain": [
              "<matplotlib.legend.Legend at 0x7a3fbc628a90>"
            ]
          },
          "metadata": {},
          "execution_count": 26
        },
        {
          "output_type": "display_data",
          "data": {
            "text/plain": [
              "<Figure size 640x480 with 1 Axes>"
            ],
            "image/png": "[encoded data removed]"
          },
          "metadata": {}
        }
      ]
    },
    {
      "cell_type": "code",
      "source": [
        "plt.plot(history.history['accuracy'],label=\"Training Accuracy\")\n",
        "plt.plot(history.history['val_accuracy'],label=\"Validation Accuracy\")\n",
        "plt.title('Training and Validation Accuracy')\n",
        "plt.legend()"
      ],
      "metadata": {
        "colab": {
          "base_uri": "https://localhost:8080/",
          "height": 470
        },
        "id": "G447EzybxVXz",
        "outputId": "2ea56006-a2b2-4a0b-c4e5-b652b9c3c46f"
      },
      "execution_count": 27,
      "outputs": [
        {
          "output_type": "execute_result",
          "data": {
            "text/plain": [
              "<matplotlib.legend.Legend at 0x7a3fbfa35330>"
            ]
          },
          "metadata": {},
          "execution_count": 27
        },
        {
          "output_type": "display_data",
          "data": {
            "text/plain": [
              "<Figure size 640x480 with 1 Axes>"
            ],
            "image/png": "[encoded data removed]"
          },
          "metadata": {}
        }
      ]
    },
    {
      "cell_type": "code",
      "source": [
        "def evaluate(model):\n",
        "\n",
        "  validation_generator = train_datagen.flow_from_directory(\n",
        "          train_dir,\n",
        "          target_size=(100,150),\n",
        "          batch_size=32,\n",
        "          class_mode='categorical',\n",
        "          shuffle = False,\n",
        "          subset='validation')\n",
        "\n",
        "  batch_size = 32\n",
        "  num_of_test_samples = len(validation_generator.filenames)\n",
        "\n",
        "  Y_pred = model.predict_generator(validation_generator, num_of_test_samples // batch_size+1)\n",
        "  y_pred = np.argmax(Y_pred, axis=1)\n",
        "\n",
        "  print('\\nConfusion Matrix\\n')\n",
        "  print(confusion_matrix(validation_generator.classes, y_pred))\n",
        "\n",
        "\n",
        "  print('\\n\\nClassification Report\\n')\n",
        "  target_names = ['Rock', 'Paper', 'Scissors']\n",
        "  print(classification_report(validation_generator.classes, y_pred, target_names=target_names))\n"
      ],
      "metadata": {
        "id": "W262EsdfYbg1"
      },
      "execution_count": 28,
      "outputs": []
    },
    {
      "cell_type": "code",
      "source": [
        "evaluate(model)"
      ],
      "metadata": {
        "colab": {
          "base_uri": "https://localhost:8080/",
          "height": 0
        },
        "id": "fI-nFWH3Ysu4",
        "outputId": "2fcc23b2-9954-467a-9067-3de1398e6626"
      },
      "execution_count": 29,
      "outputs": [
        {
          "output_type": "stream",
          "name": "stdout",
          "text": [
            "Found 874 images belonging to 3 classes.\n"
          ]
        },
        {
          "output_type": "stream",
          "name": "stderr",
          "text": [
            "<ipython-input-28-0cea1ab906f2>:14: UserWarning: `Model.predict_generator` is deprecated and will be removed in a future version. Please use `Model.predict`, which supports generators.\n",
            "  Y_pred = model.predict_generator(validation_generator, num_of_test_samples // batch_size+1)\n"
          ]
        },
        {
          "output_type": "stream",
          "name": "stdout",
          "text": [
            "\n",
            "Confusion Matrix\n",
            "\n",
            "[[270  10   4]\n",
            " [  5 285   0]\n",
            " [  7   1 292]]\n",
            "\n",
            "\n",
            "Classification Report\n",
            "\n",
            "              precision    recall  f1-score   support\n",
            "\n",
            "        Rock       0.96      0.95      0.95       284\n",
            "       Paper       0.96      0.98      0.97       290\n",
            "    Scissors       0.99      0.97      0.98       300\n",
            "\n",
            "    accuracy                           0.97       874\n",
            "   macro avg       0.97      0.97      0.97       874\n",
            "weighted avg       0.97      0.97      0.97       874\n",
            "\n"
          ]
        }
      ]
    },
    {
      "cell_type": "code",
      "source": [
        "%matplotlib inline\n",
        "\n",
        "uploaded = files.upload()\n",
        "\n",
        "for fn in uploaded.keys():\n",
        "  # predict images\n",
        "  path = fn\n",
        "  img_source = image.load_img(path, target_size = (100, 150))\n",
        "  imgplot = plt.imshow(img_source)\n",
        "  x = image.img_to_array(img_source)\n",
        "  x = np.expand_dims(x, axis = 0)\n",
        "\n",
        "  images = np.vstack([x])\n",
        "  classes = model.predict(images, batch_size = 10)\n",
        "\n",
        "  print(fn)\n",
        "  if classes[0, 0] == 1:\n",
        "    print('paper')\n",
        "  elif classes[0, 1] == 1:\n",
        "    print('rock')\n",
        "  elif classes[0, 2] == 1:\n",
        "    print('scissors')"
      ],
      "metadata": {
        "colab": {
          "base_uri": "https://localhost:8080/",
          "height": 505
        },
        "id": "hs6Gon_Ld9dc",
        "outputId": "3b9a55d7-4bf2-49dc-9a36-1cd81407a17e"
      },
      "execution_count": 41,
      "outputs": [
        {
          "output_type": "display_data",
          "data": {
            "text/plain": [
              "<IPython.core.display.HTML object>"
            ],
            "text/html": [
              "\n",
              "     <input type=\"file\" id=\"files-ac7d42ac-7082-46b5-bc28-60becad7cd14\" name=\"files[]\" multiple disabled\n",
              "        style=\"border:none\" />\n",
              "     <output id=\"result-ac7d42ac-7082-46b5-bc28-60becad7cd14\">\n",
              "      Upload widget is only available when the cell has been executed in the\n",
              "      current browser session. Please rerun this cell to enable.\n",
              "      </output>\n",
              "      <script>// Copyright 2017 Google LLC\n",
              "//\n",
              "// Licensed under the Apache License, Version 2.0 (the \"License\");\n",
              "// you may not use this file except in compliance with the License.\n",
              "// You may obtain a copy of the License at\n",
              "//\n",
              "//      http://www.apache.org/licenses/LICENSE-2.0\n",
              "//\n",
              "// Unless required by applicable law or agreed to in writing, software\n",
              "// distributed under the License is distributed on an \"AS IS\" BASIS,\n",
              "// WITHOUT WARRANTIES OR CONDITIONS OF ANY KIND, either express or implied.\n",
              "// See the License for the specific language governing permissions and\n",
              "// limitations under the License.\n",
              "\n",
              "/**\n",
              " * @fileoverview Helpers for google.colab Python module.\n",
              " */\n",
              "(function(scope) {\n",
              "function span(text, styleAttributes = {}) {\n",
              "  const element = document.createElement('span');\n",
              "  element.textContent = text;\n",
              "  for (const key of Object.keys(styleAttributes)) {\n",
              "    element.style[key] = styleAttributes[key];\n",
              "  }\n",
              "  return element;\n",
              "}\n",
              "\n",
              "// Max number of bytes which will be uploaded at a time.\n",
              "const MAX_PAYLOAD_SIZE = 100 * 1024;\n",
              "\n",
              "function _uploadFiles(inputId, outputId) {\n",
              "  const steps = uploadFilesStep(inputId, outputId);\n",
              "  const outputElement = document.getElementById(outputId);\n",
              "  // Cache steps on the outputElement to make it available for the next call\n",
              "  // to uploadFilesContinue from Python.\n",
              "  outputElement.steps = steps;\n",
              "\n",
              "  return _uploadFilesContinue(outputId);\n",
              "}\n",
              "\n",
              "// This is roughly an async generator (not supported in the browser yet),\n",
              "// where there are multiple asynchronous steps and the Python side is going\n",
              "// to poll for completion of each step.\n",
              "// This uses a Promise to block the python side on completion of each step,\n",
              "// then passes the result of the previous step as the input to the next step.\n",
              "function _uploadFilesContinue(outputId) {\n",
              "  const outputElement = document.getElementById(outputId);\n",
              "  const steps = outputElement.steps;\n",
              "\n",
              "  const next = steps.next(outputElement.lastPromiseValue);\n",
              "  return Promise.resolve(next.value.promise).then((value) => {\n",
              "    // Cache the last promise value to make it available to the next\n",
              "    // step of the generator.\n",
              "    outputElement.lastPromiseValue = value;\n",
              "    return next.value.response;\n",
              "  });\n",
              "}\n",
              "\n",
              "/**\n",
              " * Generator function which is called between each async step of the upload\n",
              " * process.\n",
              " * @param {string} inputId Element ID of the input file picker element.\n",
              " * @param {string} outputId Element ID of the output display.\n",
              " * @return {!Iterable<!Object>} Iterable of next steps.\n",
              " */\n",
              "function* uploadFilesStep(inputId, outputId) {\n",
              "  const inputElement = document.getElementById(inputId);\n",
              "  inputElement.disabled = false;\n",
              "\n",
              "  const outputElement = document.getElementById(outputId);\n",
              "  outputElement.innerHTML = '';\n",
              "\n",
              "  const pickedPromise = new Promise((resolve) => {\n",
              "    inputElement.addEventListener('change', (e) => {\n",
              "      resolve(e.target.files);\n",
              "    });\n",
              "  });\n",
              "\n",
              "  const cancel = document.createElement('button');\n",
              "  inputElement.parentElement.appendChild(cancel);\n",
              "  cancel.textContent = 'Cancel upload';\n",
              "  const cancelPromise = new Promise((resolve) => {\n",
              "    cancel.onclick = () => {\n",
              "      resolve(null);\n",
              "    };\n",
              "  });\n",
              "\n",
              "  // Wait for the user to pick the files.\n",
              "  const files = yield {\n",
              "    promise: Promise.race([pickedPromise, cancelPromise]),\n",
              "    response: {\n",
              "      action: 'starting',\n",
              "    }\n",
              "  };\n",
              "\n",
              "  cancel.remove();\n",
              "\n",
              "  // Disable the input element since further picks are not allowed.\n",
              "  inputElement.disabled = true;\n",
              "\n",
              "  if (!files) {\n",
              "    return {\n",
              "      response: {\n",
              "        action: 'complete',\n",
              "      }\n",
              "    };\n",
              "  }\n",
              "\n",
              "  for (const file of files) {\n",
              "    const li = document.createElement('li');\n",
              "    li.append(span(file.name, {fontWeight: 'bold'}));\n",
              "    li.append(span(\n",
              "        `(${file.type || 'n/a'}) - ${file.size} bytes, ` +\n",
              "        `last modified: ${\n",
              "            file.lastModifiedDate ? file.lastModifiedDate.toLocaleDateString() :\n",
              "                                    'n/a'} - `));\n",
              "    const percent = span('0% done');\n",
              "    li.appendChild(percent);\n",
              "\n",
              "    outputElement.appendChild(li);\n",
              "\n",
              "    const fileDataPromise = new Promise((resolve) => {\n",
              "      const reader = new FileReader();\n",
              "      reader.onload = (e) => {\n",
              "        resolve(e.target.result);\n",
              "      };\n",
              "      reader.readAsArrayBuffer(file);\n",
              "    });\n",
              "    // Wait for the data to be ready.\n",
              "    let fileData = yield {\n",
              "      promise: fileDataPromise,\n",
              "      response: {\n",
              "        action: 'continue',\n",
              "      }\n",
              "    };\n",
              "\n",
              "    // Use a chunked sending to avoid message size limits. See b/62115660.\n",
              "    let position = 0;\n",
              "    do {\n",
              "      const length = Math.min(fileData.byteLength - position, MAX_PAYLOAD_SIZE);\n",
              "      const chunk = new Uint8Array(fileData, position, length);\n",
              "      position += length;\n",
              "\n",
              "      const base64 = btoa(String.fromCharCode.apply(null, chunk));\n",
              "      yield {\n",
              "        response: {\n",
              "          action: 'append',\n",
              "          file: file.name,\n",
              "          data: base64,\n",
              "        },\n",
              "      };\n",
              "\n",
              "      let percentDone = fileData.byteLength === 0 ?\n",
              "          100 :\n",
              "          Math.round((position / fileData.byteLength) * 100);\n",
              "      percent.textContent = `${percentDone}% done`;\n",
              "\n",
              "    } while (position < fileData.byteLength);\n",
              "  }\n",
              "\n",
              "  // All done.\n",
              "  yield {\n",
              "    response: {\n",
              "      action: 'complete',\n",
              "    }\n",
              "  };\n",
              "}\n",
              "\n",
              "scope.google = scope.google || {};\n",
              "scope.google.colab = scope.google.colab || {};\n",
              "scope.google.colab._files = {\n",
              "  _uploadFiles,\n",
              "  _uploadFilesContinue,\n",
              "};\n",
              "})(self);\n",
              "</script> "
            ]
          },
          "metadata": {}
        },
        {
          "output_type": "stream",
          "name": "stdout",
          "text": [
            "Saving 1MOm36DHK0R8OfIC.png to 1MOm36DHK0R8OfIC (1).png\n",
            "1/1 [==============================] - 0s 26ms/step\n",
            "1MOm36DHK0R8OfIC (1).png\n",
            "rock\n"
          ]
        },
        {
          "output_type": "display_data",
          "data": {
            "text/plain": [
              "<Figure size 640x480 with 1 Axes>"
            ],
            "image/png": "[encoded data removed]"
          },
          "metadata": {}
        }
      ]
    }
  ]
}